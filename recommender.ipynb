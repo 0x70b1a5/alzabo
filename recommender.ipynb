{
 "cells": [
  {
   "attachments": {},
   "cell_type": "markdown",
   "metadata": {},
   "source": [
    "# Alzabo Recommender\n",
    "```\n",
    "User intent + Uqbar docs -> Recommender⭐ => Recommendations\n",
    "User intent + Recommendations -> Planner => Plan\n",
    "Plan -> Alzabo => a real action in userspace (sign txn, send message, etc)\n",
    "```\n",
    "\n",
    "⭐ You are here.\n",
    "\n",
    "The Recommender transforms user input (such as \"I want to message ~dev and ~rus\") into real API calls, which are then passed to the Planner.\n",
    "\n",
    "## Utilities\n",
    "This notebook also provides utilities for:\n",
    "\n",
    "1. Easily concatenating Markdown files in multiple directories (recursive) into a single document\n",
    "1. Converting documents into embeddings"
   ]
  },
  {
   "attachments": {},
   "cell_type": "markdown",
   "metadata": {},
   "source": [
    "### Concatenate and Chunk Markdown\n",
    "\n",
    "The OpenAI embeddings API has a size limit of 8191 tokens. Chunk all the .md files in the given dirs into `concatenated-#.md` files."
   ]
  },
  {
   "cell_type": "code",
   "execution_count": 1,
   "metadata": {},
   "outputs": [],
   "source": [
    "import re\n",
    "from typing import List\n",
    "from pathlib import Path\n",
    "import tiktoken\n",
    "\n",
    "def num_tokens_from_string(string: str, encoding_name: str) -> int:\n",
    "    \"\"\"Returns the number of tokens in a text string.\"\"\"\n",
    "    encoding = tiktoken.get_encoding(encoding_name)\n",
    "    num_tokens = len(encoding.encode(string))\n",
    "    return num_tokens\n",
    "\n",
    "\n",
    "def split_into_chunks(text: str, max_tokens: int, model: str) -> List[str]:\n",
    "    tokens = re.findall(r'\\S+|\\n', text)  # Break text into tokens\n",
    "    chunks = []\n",
    "    current_chunk = []\n",
    "\n",
    "    token_count = 0\n",
    "    for token in tokens:\n",
    "        token_count += num_tokens_from_string(token, model)\n",
    "\n",
    "        if token_count > max_tokens:\n",
    "            chunks.append(\" \".join(current_chunk))\n",
    "            current_chunk = []\n",
    "            token_count = num_tokens_from_string(token, model)\n",
    "\n",
    "        current_chunk.append(token)\n",
    "\n",
    "    chunks.append(\" \".join(current_chunk))\n",
    "    return chunks\n",
    "\n",
    "\n",
    "def concatenate_markdown_files(directories, max_tokens_per_file=8191, model=\"cl100k_base\"):\n",
    "    index = 0\n",
    "    output_file = f\"concatenated-{index}.md\"\n",
    "\n",
    "    with open(output_file, 'w') as output:  # Create an empty output file\n",
    "        pass\n",
    "\n",
    "    for directory in directories:\n",
    "        print(f\"Starting {directory}\")\n",
    "        \n",
    "        for input_file in directory.rglob(\"*.md\"):\n",
    "            if output_file in input_file.name or \"node_modules\" in input_file.parts:\n",
    "                continue\n",
    "\n",
    "            with open(input_file, 'r') as md_file:\n",
    "                input_content = md_file.read()\n",
    "\n",
    "            content_chunks = split_into_chunks(input_content, max_tokens_per_file, model)\n",
    "\n",
    "            for chunk in content_chunks:\n",
    "                with open(output_file, 'r') as output:\n",
    "                    old_content = output.read()\n",
    "                    current_tokens = num_tokens_from_string(old_content, model)\n",
    "\n",
    "                tokens_to_add = num_tokens_from_string(chunk, model)\n",
    "                total_tokens = current_tokens + tokens_to_add\n",
    "\n",
    "                # Respect embedding API limit.\n",
    "                if total_tokens > max_tokens_per_file:\n",
    "                    index += 1\n",
    "                    output_file = f\"concatenated-{index}.md\"\n",
    "\n",
    "                with open(output_file, 'a') as output:\n",
    "                    output.write(chunk)\n",
    "                    output.write(\"\\n\")"
   ]
  },
  {
   "cell_type": "code",
   "execution_count": null,
   "metadata": {},
   "outputs": [],
   "source": [
    "input_directories = ['../uqbar-core', '../pongo', '../pokur', '../dev-suite', '../nectar']\n",
    "directories = [Path(directory) for directory in input_directories]\n",
    "print(f\"For directories: {directories}\")\n",
    "concatenate_markdown_files(directories, 8191)"
   ]
  },
  {
   "attachments": {},
   "cell_type": "markdown",
   "metadata": {},
   "source": [
    "### Create Embeddings\n",
    "\n",
    "For all `concatenated-#.md`, retrieve embeddings and write to `embeddings-{date}.json`.\n",
    "\n",
    "It's known that just writing to json is not ideal. The conversion to some other format (OpenAI's examples use `pickle`) is pending."
   ]
  },
  {
   "cell_type": "code",
   "execution_count": 3,
   "metadata": {},
   "outputs": [],
   "source": [
    "# creates vector embeddings for the text in concatenated readme files.\n",
    "# api only accepts 8191 tokens at a time so we gotta split inputs like this.\n",
    "\n",
    "import json\n",
    "import os\n",
    "import re\n",
    "import requests\n",
    "from datetime import datetime\n",
    "from pathlib import Path\n",
    "\n",
    "def get_embeddings(text):\n",
    "    contents_escaped = json.dumps(text)\n",
    "    text_clean = ' '.join(contents_escaped.split())\n",
    "\n",
    "    payload = {\n",
    "        \"input\": text_clean,\n",
    "        \"model\": \"text-embedding-ada-002\"\n",
    "    }\n",
    "\n",
    "    with open(\"payload.txt\", 'w') as f:\n",
    "        f.write(json.dumps(payload))\n",
    "\n",
    "    openai_api_key = os.environ['OPENAI_API_KEY']\n",
    "    headers = {\n",
    "        \"Content-Type\": \"application/json\",\n",
    "        \"Authorization\": f\"Bearer {openai_api_key}\"\n",
    "    }\n",
    "    response = requests.post(\"https://api.openai.com/v1/embeddings\", headers=headers, json=payload)\n",
    "    return response.json()"
   ]
  },
  {
   "cell_type": "code",
   "execution_count": null,
   "metadata": {},
   "outputs": [],
   "source": [
    "for file_path in Path(\".\").iterdir():\n",
    "    if not file_path.is_file() or not re.compile(r\"concatenated-\\d+\\.md\").match(file_path.name):\n",
    "        continue\n",
    "\n",
    "    output_file = f\"embeddings-{datetime.now().strftime('%Y-%m-%d-%H:%M')}.json\"\n",
    "\n",
    "    with open(output_file, 'w') as output:  # Create an empty output file\n",
    "        pass\n",
    "\n",
    "    with open(file_path, 'r') as f:\n",
    "        contents = f.read()\n",
    "\n",
    "    embeddings = get_embeddings(contents).get('data', {})[0].get('embedding', None)\n",
    "\n",
    "    with open(output_file, 'a') as f:\n",
    "        f.write(str(embeddings))"
   ]
  },
  {
   "attachments": {},
   "cell_type": "markdown",
   "metadata": {},
   "source": [
    "## Recommender\n",
    "\n",
    "Given some string of user intent (\"I want to order a burger on the blockchain\"), search our embeddings for the nearest neighbor API capabilities.\n",
    "\n",
    "### 1. Imports"
   ]
  },
  {
   "cell_type": "code",
   "execution_count": null,
   "metadata": {},
   "outputs": [],
   "source": [
    "# imports\n",
    "import pandas as pd\n",
    "import pickle\n",
    "from typing import list\n",
    "\n",
    "from openai.embeddings_utils import (\n",
    "    get_embedding,\n",
    "    distances_from_embeddings,\n",
    "    tsne_components_from_embeddings,\n",
    "    chart_from_components,\n",
    "    indices_of_nearest_neighbors_from_distances,\n",
    ")\n",
    "\n",
    "# constants\n",
    "EMBEDDING_MODEL = \"text-embedding-ada-002\""
   ]
  },
  {
   "attachments": {},
   "cell_type": "markdown",
   "metadata": {},
   "source": [
    "### 2. Load data"
   ]
  },
  {
   "cell_type": "code",
   "execution_count": null,
   "metadata": {},
   "outputs": [],
   "source": []
  }
 ],
 "metadata": {
  "kernelspec": {
   "display_name": "ldm",
   "language": "python",
   "name": "python3"
  },
  "language_info": {
   "codemirror_mode": {
    "name": "ipython",
    "version": 3
   },
   "file_extension": ".py",
   "mimetype": "text/x-python",
   "name": "python",
   "nbconvert_exporter": "python",
   "pygments_lexer": "ipython3",
   "version": "3.8.5"
  },
  "orig_nbformat": 4
 },
 "nbformat": 4,
 "nbformat_minor": 2
}
